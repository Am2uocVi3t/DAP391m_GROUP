{
 "cells": [
  {
   "cell_type": "code",
   "execution_count": 19,
   "id": "87d4da45",
   "metadata": {},
   "outputs": [
    {
     "ename": "ModuleNotFoundError",
     "evalue": "No module named 'matplotlib'",
     "output_type": "error",
     "traceback": [
      "\u001b[31m---------------------------------------------------------------------------\u001b[39m",
      "\u001b[31mModuleNotFoundError\u001b[39m                       Traceback (most recent call last)",
      "\u001b[36mCell\u001b[39m\u001b[36m \u001b[39m\u001b[32mIn[19]\u001b[39m\u001b[32m, line 2\u001b[39m\n\u001b[32m      1\u001b[39m \u001b[38;5;28;01mimport\u001b[39;00m\u001b[38;5;250m \u001b[39m\u001b[34;01mpandas\u001b[39;00m\u001b[38;5;250m \u001b[39m\u001b[38;5;28;01mas\u001b[39;00m\u001b[38;5;250m \u001b[39m\u001b[34;01mpd\u001b[39;00m\n\u001b[32m----> \u001b[39m\u001b[32m2\u001b[39m \u001b[38;5;28;01mimport\u001b[39;00m\u001b[38;5;250m \u001b[39m\u001b[34;01mmatplotlib\u001b[39;00m\u001b[34;01m.\u001b[39;00m\u001b[34;01mpyplot\u001b[39;00m\u001b[38;5;250m \u001b[39m\u001b[38;5;28;01mas\u001b[39;00m\u001b[38;5;250m \u001b[39m\u001b[34;01mplt\u001b[39;00m\n\u001b[32m      3\u001b[39m \u001b[38;5;28;01mimport\u001b[39;00m\u001b[38;5;250m \u001b[39m\u001b[34;01mseaborn\u001b[39;00m\u001b[38;5;250m \u001b[39m\u001b[38;5;28;01mas\u001b[39;00m\u001b[38;5;250m \u001b[39m\u001b[34;01msns\u001b[39;00m\n\u001b[32m      5\u001b[39m df = pd.read_csv(\u001b[33m'\u001b[39m\u001b[33m../data/HCM_city.csv\u001b[39m\u001b[33m'\u001b[39m, skiprows=\u001b[32m2\u001b[39m)\n",
      "\u001b[31mModuleNotFoundError\u001b[39m: No module named 'matplotlib'"
     ]
    }
   ],
   "source": [
    "import pandas as pd\n",
    "import matplotlib.pyplot as plt\n",
    "import seaborn as sns\n",
    "\n",
    "df = pd.read_csv('../data/HCM_city.csv', skiprows=2)\n",
    "display(df)"
   ]
  },
  {
   "cell_type": "code",
   "execution_count": 17,
   "id": "097f6c8d",
   "metadata": {},
   "outputs": [
    {
     "name": "stdout",
     "output_type": "stream",
     "text": [
      "       temperature_2m (°C)  relative_humidity_2m (%)  precipitation (mm)  \\\n",
      "count          1632.000000               1632.000000         1632.000000   \n",
      "mean             29.179779                 77.467525            0.161581   \n",
      "std               2.878768                 14.525950            0.483537   \n",
      "min              24.400000                 41.000000            0.000000   \n",
      "25%              26.700000                 66.000000            0.000000   \n",
      "50%              28.400000                 81.000000            0.000000   \n",
      "75%              31.500000                 90.000000            0.100000   \n",
      "max              36.300000                 97.000000            5.800000   \n",
      "\n",
      "       wind_speed_80m (km/h)  wind_speed_10m (km/h)  pressure_msl (hPa)  \\\n",
      "count            1632.000000            1632.000000         1632.000000   \n",
      "mean               11.412132               6.492647         1008.773284   \n",
      "std                 5.262230               3.308834            1.871919   \n",
      "min                 0.000000               0.400000         1002.800000   \n",
      "25%                 7.100000               3.900000         1007.500000   \n",
      "50%                11.000000               6.000000         1008.800000   \n",
      "75%                15.300000               8.700000         1010.100000   \n",
      "max                27.100000              17.100000         1014.100000   \n",
      "\n",
      "       surface_pressure (hPa)  cloud_cover (%)  temperature_80m (°C)  \\\n",
      "count             1632.000000      1632.000000           1632.000000   \n",
      "mean              1008.073284        79.219975             28.183395   \n",
      "std                  1.871919        26.488039              2.192854   \n",
      "min               1002.100000         0.000000             24.400000   \n",
      "25%               1006.800000        65.000000             26.300000   \n",
      "50%               1008.100000        91.000000             27.800000   \n",
      "75%               1009.400000       100.000000             29.800000   \n",
      "max               1013.400000       100.000000             34.100000   \n",
      "\n",
      "       uv_index ()  \n",
      "count  1632.000000  \n",
      "mean      2.002574  \n",
      "std       2.898020  \n",
      "min       0.000000  \n",
      "25%       0.000000  \n",
      "50%       0.075000  \n",
      "75%       3.350000  \n",
      "max       9.450000  \n"
     ]
    }
   ],
   "source": [
    "print(df.describe())"
   ]
  },
  {
   "cell_type": "code",
   "execution_count": 16,
   "id": "1c45c10b",
   "metadata": {},
   "outputs": [
    {
     "name": "stdout",
     "output_type": "stream",
     "text": [
      "<class 'pandas.core.frame.DataFrame'>\n",
      "RangeIndex: 1632 entries, 0 to 1631\n",
      "Data columns (total 11 columns):\n",
      " #   Column                    Non-Null Count  Dtype  \n",
      "---  ------                    --------------  -----  \n",
      " 0   time                      1632 non-null   object \n",
      " 1   temperature_2m (°C)       1632 non-null   float64\n",
      " 2   relative_humidity_2m (%)  1632 non-null   int64  \n",
      " 3   precipitation (mm)        1632 non-null   float64\n",
      " 4   wind_speed_80m (km/h)     1632 non-null   float64\n",
      " 5   wind_speed_10m (km/h)     1632 non-null   float64\n",
      " 6   pressure_msl (hPa)        1632 non-null   float64\n",
      " 7   surface_pressure (hPa)    1632 non-null   float64\n",
      " 8   cloud_cover (%)           1632 non-null   int64  \n",
      " 9   temperature_80m (°C)      1632 non-null   float64\n",
      " 10  uv_index ()               1632 non-null   float64\n",
      "dtypes: float64(8), int64(2), object(1)\n",
      "memory usage: 140.4+ KB\n",
      "None\n",
      "time                        0\n",
      "temperature_2m (°C)         0\n",
      "relative_humidity_2m (%)    0\n",
      "precipitation (mm)          0\n",
      "wind_speed_80m (km/h)       0\n",
      "wind_speed_10m (km/h)       0\n",
      "pressure_msl (hPa)          0\n",
      "surface_pressure (hPa)      0\n",
      "cloud_cover (%)             0\n",
      "temperature_80m (°C)        0\n",
      "uv_index ()                 0\n",
      "dtype: int64\n"
     ]
    }
   ],
   "source": [
    "print(df.info())\n",
    "print(df.isnull().sum())"
   ]
  },
  {
   "cell_type": "code",
   "execution_count": 20,
   "id": "b82f9aba",
   "metadata": {},
   "outputs": [
    {
     "ename": "NameError",
     "evalue": "name 'plt' is not defined",
     "output_type": "error",
     "traceback": [
      "\u001b[31m---------------------------------------------------------------------------\u001b[39m",
      "\u001b[31mNameError\u001b[39m                                 Traceback (most recent call last)",
      "\u001b[36mCell\u001b[39m\u001b[36m \u001b[39m\u001b[32mIn[20]\u001b[39m\u001b[32m, line 3\u001b[39m\n\u001b[32m      1\u001b[39m numeric_cols = df.select_dtypes(include=[\u001b[33m'\u001b[39m\u001b[33mfloat64\u001b[39m\u001b[33m'\u001b[39m, \u001b[33m'\u001b[39m\u001b[33mint64\u001b[39m\u001b[33m'\u001b[39m]).columns\n\u001b[32m----> \u001b[39m\u001b[32m3\u001b[39m \u001b[43mplt\u001b[49m.figure(figsize=(\u001b[32m20\u001b[39m, \u001b[32m25\u001b[39m))\n\u001b[32m      5\u001b[39m \u001b[38;5;28;01mfor\u001b[39;00m i, col \u001b[38;5;129;01min\u001b[39;00m \u001b[38;5;28menumerate\u001b[39m(numeric_cols, \u001b[32m1\u001b[39m):\n\u001b[32m      6\u001b[39m     plt.subplot(\u001b[32m6\u001b[39m, \u001b[32m2\u001b[39m, i)\n",
      "\u001b[31mNameError\u001b[39m: name 'plt' is not defined"
     ]
    }
   ],
   "source": [
    "numeric_cols = df.select_dtypes(include=['float64', 'int64']).columns\n",
    "\n",
    "plt.figure(figsize=(20, 25))\n",
    "\n",
    "for i, col in enumerate(numeric_cols, 1):\n",
    "    plt.subplot(6, 2, i)\n",
    "    sns.boxplot(x=df[col], color=\"skyblue\")\n",
    "    plt.title(f\"Outliers in {col}\", fontsize=10)\n",
    "    plt.xlabel(\"\")\n",
    "\n",
    "plt.tight_layout()\n",
    "plt.show()"
   ]
  }
 ],
 "metadata": {
  "kernelspec": {
   "display_name": "Python 3",
   "language": "python",
   "name": "python3"
  },
  "language_info": {
   "codemirror_mode": {
    "name": "ipython",
    "version": 3
   },
   "file_extension": ".py",
   "mimetype": "text/x-python",
   "name": "python",
   "nbconvert_exporter": "python",
   "pygments_lexer": "ipython3",
   "version": "3.12.5"
  }
 },
 "nbformat": 4,
 "nbformat_minor": 5
}
